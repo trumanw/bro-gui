{
 "cells": [
  {
   "cell_type": "code",
   "execution_count": 19,
   "id": "17006ecb",
   "metadata": {},
   "outputs": [],
   "source": [
    "import os\n",
    "import logging\n",
    "from larksuiteoapi import Config, DOMAIN_FEISHU, DefaultLogger, MemoryStore, LEVEL_ERROR, ACCESS_TOKEN_TYPE_TENANT\n",
    "from larksuiteoapi.api import Request"
   ]
  },
  {
   "cell_type": "code",
   "execution_count": 20,
   "id": "cad9f3db",
   "metadata": {},
   "outputs": [],
   "source": [
    "os.environ[\"APP_ID\"] = \"cli_a39db339cdfad00d\"\n",
    "os.environ[\"APP_SECRET\"] = \"QRiRvybIxT7XFbQ5HHD6Ocq64dVlP10p\""
   ]
  },
  {
   "cell_type": "code",
   "execution_count": 134,
   "id": "84f86404",
   "metadata": {},
   "outputs": [],
   "source": [
    "Config.new_internal_app_settings_from_env??"
   ]
  },
  {
   "cell_type": "code",
   "execution_count": 21,
   "id": "b78b248e",
   "metadata": {},
   "outputs": [],
   "source": [
    "app_settings = Config.new_internal_app_settings_from_env()\n",
    "conf = Config(DOMAIN_FEISHU, app_settings, logger=DefaultLogger(), log_level=LEVEL_ERROR, store=MemoryStore())"
   ]
  },
  {
   "cell_type": "code",
   "execution_count": 131,
   "id": "f29257aa",
   "metadata": {},
   "outputs": [
    {
     "data": {
      "text/plain": [
       "larksuiteoapi.config.Config"
      ]
     },
     "execution_count": 131,
     "metadata": {},
     "output_type": "execute_result"
    }
   ],
   "source": [
    "type(conf)"
   ]
  },
  {
   "cell_type": "markdown",
   "id": "3892cc11",
   "metadata": {},
   "source": [
    "## 获取表格元数据"
   ]
  },
  {
   "cell_type": "code",
   "execution_count": 25,
   "id": "d0a9a47f",
   "metadata": {},
   "outputs": [],
   "source": [
    "http_Method = \"GET\"\n",
    "spreadsheetToken = \"shtcndrhB04W9FW3XKbqa8RfOIV\"\n",
    "http_path = f\"https://open.feishu.cn/open-apis/sheets/v2/spreadsheets/{spreadsheetToken}/metainfo\"\n",
    "access_token_type = ACCESS_TOKEN_TYPE_TENANT\n",
    "request_body = None"
   ]
  },
  {
   "cell_type": "code",
   "execution_count": 26,
   "id": "b43aed08",
   "metadata": {},
   "outputs": [],
   "source": [
    "req = Request(http_path, http_Method, access_token_type, request_body, request_opts=None)"
   ]
  },
  {
   "cell_type": "code",
   "execution_count": 41,
   "id": "72d75be9",
   "metadata": {},
   "outputs": [
    {
     "name": "stdout",
     "output_type": "stream",
     "text": [
      "request id = 2022090814121501015021123006021335\n",
      "0\n"
     ]
    }
   ],
   "source": [
    "resp = req.do(conf)\n",
    "\n",
    "print('request id = %s' % resp.get_request_id())\n",
    "print(resp.code)"
   ]
  },
  {
   "cell_type": "code",
   "execution_count": 42,
   "id": "3c890cdf",
   "metadata": {},
   "outputs": [
    {
     "name": "stdout",
     "output_type": "stream",
     "text": [
      "[{'columnCount': 20, 'frozenColCount': 0, 'frozenRowCount': 0, 'index': 0, 'rowCount': 194, 'sheetId': '558383', 'title': 'Sheet1'}, {'columnCount': 20, 'frozenColCount': 0, 'frozenRowCount': 0, 'index': 1, 'rowCount': 200, 'sheetId': 'MdX08r', 'title': 'Sheet2'}]\n"
     ]
    }
   ],
   "source": [
    "if resp.code == 0:\n",
    "    print(resp.data[\"sheets\"])\n",
    "else:\n",
    "    print(resp.msg)\n",
    "    print(resp.error)"
   ]
  },
  {
   "cell_type": "code",
   "execution_count": 43,
   "id": "e7f4d0a7",
   "metadata": {},
   "outputs": [
    {
     "data": {
      "text/plain": [
       "[{'columnCount': 20,\n",
       "  'frozenColCount': 0,\n",
       "  'frozenRowCount': 0,\n",
       "  'index': 0,\n",
       "  'rowCount': 194,\n",
       "  'sheetId': '558383',\n",
       "  'title': 'Sheet1'},\n",
       " {'columnCount': 20,\n",
       "  'frozenColCount': 0,\n",
       "  'frozenRowCount': 0,\n",
       "  'index': 1,\n",
       "  'rowCount': 200,\n",
       "  'sheetId': 'MdX08r',\n",
       "  'title': 'Sheet2'}]"
      ]
     },
     "execution_count": 43,
     "metadata": {},
     "output_type": "execute_result"
    }
   ],
   "source": [
    "resp.data[\"sheets\"]"
   ]
  },
  {
   "cell_type": "code",
   "execution_count": 44,
   "id": "fa6da532",
   "metadata": {},
   "outputs": [],
   "source": [
    "sheetId = resp.data[\"sheets\"][0][\"sheetId\"]"
   ]
  },
  {
   "cell_type": "code",
   "execution_count": 45,
   "id": "ed7ec527",
   "metadata": {},
   "outputs": [
    {
     "data": {
      "text/plain": [
       "'558383'"
      ]
     },
     "execution_count": 45,
     "metadata": {},
     "output_type": "execute_result"
    }
   ],
   "source": [
    "sheetId"
   ]
  },
  {
   "cell_type": "markdown",
   "id": "cf407b16",
   "metadata": {},
   "source": [
    "## 读取单个范围数据"
   ]
  },
  {
   "cell_type": "code",
   "execution_count": 105,
   "id": "efba2bb4",
   "metadata": {},
   "outputs": [],
   "source": [
    "http_Method = \"GET\"\n",
    "range = f\"{sheetId}!A:I\"\n",
    "http_path = f\"https://open.feishu.cn/open-apis/sheets/v2/spreadsheets/{spreadsheetToken}/values/{range}?valueRenderOption=FormattedValue\""
   ]
  },
  {
   "cell_type": "code",
   "execution_count": 106,
   "id": "1b7da1cd",
   "metadata": {},
   "outputs": [
    {
     "name": "stdout",
     "output_type": "stream",
     "text": [
      "request id = 202209081449380102080370960D0D937B\n",
      "0\n",
      "{'revision': 41, 'spreadsheetToken': 'shtcndrhB04W9FW3XKbqa8RfOIV', 'valueRange': {'majorDimension': 'ROWS', 'range': '558383!A1:I5', 'revision': 41, 'values': [['Trial Index', 'Trial Type', 'T (C)', 'P (MPa)', 'GR (mL/min)', 'LR (mL/min)', 'C (wt%)', 'THFDM Productivity (mol/h)', 'E-Factor'], [0, 'INIT', 130, 5, 40, 0.1, 5, 0.001326406, 0.430519], [0, 'INIT', 120, 3, 80, 2.0333333335, 5, 0.021001056, 0.795983], [0, 'INIT', 130, 3, 80, 0.422222222, 10, 0.011446429, 0.362433], [0, 'INIT', 120, 3, 60, 1.066666667, 2.5, 0.007536612, 0.285219]]}}\n"
     ]
    }
   ],
   "source": [
    "req = Request(http_path, http_Method, access_token_type, request_body, request_opts=None)\n",
    "\n",
    "resp = req.do(conf)\n",
    "\n",
    "print('request id = %s' % resp.get_request_id())\n",
    "print(resp.code)\n",
    "\n",
    "if resp.code == 0:\n",
    "    print(resp.data)\n",
    "else:\n",
    "    print(resp.msg)\n",
    "    print(resp.error)"
   ]
  },
  {
   "cell_type": "code",
   "execution_count": 114,
   "id": "4cab2c34",
   "metadata": {},
   "outputs": [
    {
     "data": {
      "text/plain": [
       "[['Trial Index',\n",
       "  'Trial Type',\n",
       "  'T (C)',\n",
       "  'P (MPa)',\n",
       "  'GR (mL/min)',\n",
       "  'LR (mL/min)',\n",
       "  'C (wt%)',\n",
       "  'THFDM Productivity (mol/h)',\n",
       "  'E-Factor'],\n",
       " [0, 'INIT', 130, 5, 40, 0.1, 5, 0.001326406, 0.430519],\n",
       " [0, 'INIT', 120, 3, 80, 2.0333333335, 5, 0.021001056, 0.795983],\n",
       " [0, 'INIT', 130, 3, 80, 0.422222222, 10, 0.011446429, 0.362433],\n",
       " [0, 'INIT', 120, 3, 60, 1.066666667, 2.5, 0.007536612, 0.285219]]"
      ]
     },
     "execution_count": 114,
     "metadata": {},
     "output_type": "execute_result"
    }
   ],
   "source": [
    "resp.data['valueRange']['values']"
   ]
  },
  {
   "cell_type": "code",
   "execution_count": 120,
   "id": "a9b31197",
   "metadata": {},
   "outputs": [
    {
     "data": {
      "text/plain": [
       "[[0, 'INIT', 130, 5, 40, 0.1, 5, 0.001326406, 0.430519],\n",
       " [0, 'INIT', 120, 3, 80, 2.0333333335, 5, 0.021001056, 0.795983],\n",
       " [0, 'INIT', 130, 3, 80, 0.422222222, 10, 0.011446429, 0.362433],\n",
       " [0, 'INIT', 120, 3, 60, 1.066666667, 2.5, 0.007536612, 0.285219]]"
      ]
     },
     "execution_count": 120,
     "metadata": {},
     "output_type": "execute_result"
    }
   ],
   "source": [
    "resp.data['valueRange']['values'][1:]"
   ]
  },
  {
   "cell_type": "code",
   "execution_count": 129,
   "id": "9d680aaf",
   "metadata": {},
   "outputs": [],
   "source": [
    "import numpy as np\n",
    "import pandas as pd\n",
    "\n",
    "numpy_array = np.array(resp.data['valueRange']['values'][1:])\n",
    "numpy_columns = resp.data['valueRange']['values'][0]\n",
    "df = pd.DataFrame(numpy_array, columns=numpy_columns)"
   ]
  },
  {
   "cell_type": "code",
   "execution_count": 130,
   "id": "938f4d90",
   "metadata": {},
   "outputs": [
    {
     "data": {
      "text/html": [
       "<div>\n",
       "<style scoped>\n",
       "    .dataframe tbody tr th:only-of-type {\n",
       "        vertical-align: middle;\n",
       "    }\n",
       "\n",
       "    .dataframe tbody tr th {\n",
       "        vertical-align: top;\n",
       "    }\n",
       "\n",
       "    .dataframe thead th {\n",
       "        text-align: right;\n",
       "    }\n",
       "</style>\n",
       "<table border=\"1\" class=\"dataframe\">\n",
       "  <thead>\n",
       "    <tr style=\"text-align: right;\">\n",
       "      <th></th>\n",
       "      <th>Trial Index</th>\n",
       "      <th>Trial Type</th>\n",
       "      <th>T (C)</th>\n",
       "      <th>P (MPa)</th>\n",
       "      <th>GR (mL/min)</th>\n",
       "      <th>LR (mL/min)</th>\n",
       "      <th>C (wt%)</th>\n",
       "      <th>THFDM Productivity (mol/h)</th>\n",
       "      <th>E-Factor</th>\n",
       "    </tr>\n",
       "  </thead>\n",
       "  <tbody>\n",
       "    <tr>\n",
       "      <th>0</th>\n",
       "      <td>0</td>\n",
       "      <td>INIT</td>\n",
       "      <td>130</td>\n",
       "      <td>5</td>\n",
       "      <td>40</td>\n",
       "      <td>0.1</td>\n",
       "      <td>5</td>\n",
       "      <td>0.001326406</td>\n",
       "      <td>0.430519</td>\n",
       "    </tr>\n",
       "    <tr>\n",
       "      <th>1</th>\n",
       "      <td>0</td>\n",
       "      <td>INIT</td>\n",
       "      <td>120</td>\n",
       "      <td>3</td>\n",
       "      <td>80</td>\n",
       "      <td>2.0333333335</td>\n",
       "      <td>5</td>\n",
       "      <td>0.021001056</td>\n",
       "      <td>0.795983</td>\n",
       "    </tr>\n",
       "    <tr>\n",
       "      <th>2</th>\n",
       "      <td>0</td>\n",
       "      <td>INIT</td>\n",
       "      <td>130</td>\n",
       "      <td>3</td>\n",
       "      <td>80</td>\n",
       "      <td>0.422222222</td>\n",
       "      <td>10</td>\n",
       "      <td>0.011446429</td>\n",
       "      <td>0.362433</td>\n",
       "    </tr>\n",
       "    <tr>\n",
       "      <th>3</th>\n",
       "      <td>0</td>\n",
       "      <td>INIT</td>\n",
       "      <td>120</td>\n",
       "      <td>3</td>\n",
       "      <td>60</td>\n",
       "      <td>1.066666667</td>\n",
       "      <td>2.5</td>\n",
       "      <td>0.007536612</td>\n",
       "      <td>0.285219</td>\n",
       "    </tr>\n",
       "  </tbody>\n",
       "</table>\n",
       "</div>"
      ],
      "text/plain": [
       "  Trial Index Trial Type T (C) P (MPa) GR (mL/min)   LR (mL/min) C (wt%)  \\\n",
       "0           0       INIT   130       5          40           0.1       5   \n",
       "1           0       INIT   120       3          80  2.0333333335       5   \n",
       "2           0       INIT   130       3          80   0.422222222      10   \n",
       "3           0       INIT   120       3          60   1.066666667     2.5   \n",
       "\n",
       "  THFDM Productivity (mol/h)  E-Factor  \n",
       "0                0.001326406  0.430519  \n",
       "1                0.021001056  0.795983  \n",
       "2                0.011446429  0.362433  \n",
       "3                0.007536612  0.285219  "
      ]
     },
     "execution_count": 130,
     "metadata": {},
     "output_type": "execute_result"
    }
   ],
   "source": [
    "df"
   ]
  },
  {
   "cell_type": "markdown",
   "id": "7833c582",
   "metadata": {},
   "source": [
    "## 向单个范围写入数据"
   ]
  },
  {
   "cell_type": "code",
   "execution_count": 96,
   "id": "a516f265",
   "metadata": {},
   "outputs": [],
   "source": [
    "http_Method = \"PUT\"\n",
    "http_path = f\"https://open.feishu.cn/open-apis/sheets/v2/spreadsheets/{spreadsheetToken}/values\""
   ]
  },
  {
   "cell_type": "code",
   "execution_count": 102,
   "id": "4d962fa2",
   "metadata": {},
   "outputs": [],
   "source": [
    "request_body = {\n",
    "    \"valueRange\":{\n",
    "        \"range\": \"558383!A2:I\",\n",
    "        \"values\": [\n",
    "            [0, \"INIT\", 130, 5, 40, 0.1, 5, 0.001326406, 0.430519],\n",
    "            [0, \"INIT\", 120, 3, 80, 2.0333333335, 5, 0.021001056, 0.795983],\n",
    "            [0, \"INIT\", 130, 3, 80, 0.422222222, 10, 0.011446429, 0.362433],\n",
    "            [0, \"INIT\", 120, 3, 60, 1.066666667, 2.5, 0.007536612, 0.285219]\n",
    "        ]\n",
    "    }\n",
    "}"
   ]
  },
  {
   "cell_type": "code",
   "execution_count": 103,
   "id": "f7938b91",
   "metadata": {},
   "outputs": [
    {
     "name": "stdout",
     "output_type": "stream",
     "text": [
      "request id = 20220908144856010208165096110A5EDE\n",
      "0\n"
     ]
    }
   ],
   "source": [
    "req = Request(http_path, http_Method, access_token_type, request_body, request_opts=None)\n",
    "\n",
    "resp = req.do(conf)\n",
    "\n",
    "print('request id = %s' % resp.get_request_id())\n",
    "print(resp.code)"
   ]
  },
  {
   "cell_type": "code",
   "execution_count": 104,
   "id": "5ab2b4fa",
   "metadata": {},
   "outputs": [
    {
     "name": "stdout",
     "output_type": "stream",
     "text": [
      "{'revision': 41, 'spreadsheetToken': 'shtcndrhB04W9FW3XKbqa8RfOIV', 'updatedCells': 36, 'updatedColumns': 9, 'updatedRange': '558383!A2:I5', 'updatedRows': 4}\n"
     ]
    }
   ],
   "source": [
    "if resp.code == 0:\n",
    "    print(resp.data)\n",
    "else:\n",
    "    print(resp.msg)\n",
    "    print(resp.error)"
   ]
  },
  {
   "cell_type": "code",
   "execution_count": null,
   "id": "bbad0cb8",
   "metadata": {},
   "outputs": [],
   "source": []
  }
 ],
 "metadata": {
  "kernelspec": {
   "display_name": "Python 3 (ipykernel)",
   "language": "python",
   "name": "python3"
  },
  "language_info": {
   "codemirror_mode": {
    "name": "ipython",
    "version": 3
   },
   "file_extension": ".py",
   "mimetype": "text/x-python",
   "name": "python",
   "nbconvert_exporter": "python",
   "pygments_lexer": "ipython3",
   "version": "3.8.13"
  }
 },
 "nbformat": 4,
 "nbformat_minor": 5
}
